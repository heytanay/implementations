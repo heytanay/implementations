{
 "cells": [
  {
   "cell_type": "code",
   "execution_count": null,
   "id": "eb14eddb",
   "metadata": {},
   "outputs": [],
   "source": [
    "import cv2\n",
    "import numpy as np\n",
    "import tensorflow as tf"
   ]
  },
  {
   "cell_type": "code",
   "execution_count": null,
   "id": "149faaa9",
   "metadata": {},
   "outputs": [],
   "source": [
    "SHAPE = (224, 224, 3)\n",
    "TRAIN_DIR = \"data/training_set/\"\n",
    "TEST_DIR = \"data/test_set/\""
   ]
  },
  {
   "cell_type": "code",
   "execution_count": null,
   "id": "a7fa727f",
   "metadata": {},
   "outputs": [],
   "source": [
    "# Model functions\n",
    "def input_layer(input_shape: tuple=SHAPE):\n",
    "    return tf.keras.Input(shape=input_shape)\n",
    "\n",
    "def conv_block(x, nb_filters: int=64, nb_layers: int=2, repeat: int=-1):\n",
    "    for layer in range(1, nb_layers+1):    \n",
    "        layer_name = f\"conv3_{nb_filters}_{layer}\"\n",
    "        if repeat != -1:\n",
    "            layer_name = f\"conv3_{nb_filters}_{layer}_{repeat}\"\n",
    "        x = tf.keras.layers.Conv2D(\n",
    "            filters=nb_filters,\n",
    "            kernel_size=(3, 3),\n",
    "            padding='same',\n",
    "            activation='relu',\n",
    "            name=layer_name,\n",
    "        )(x)\n",
    "        \n",
    "    x = tf.keras.layers.MaxPooling2D(\n",
    "        pool_size=2,\n",
    "        strides=2,\n",
    "        padding='same',\n",
    "    )(x)\n",
    "    return x\n",
    "\n",
    "def fc_block(x, layer_sizes=[512, 256, 2]):\n",
    "    x = tf.keras.layers.Flatten()(x)\n",
    "    for layer in layer_sizes[:-1]:\n",
    "        x = tf.keras.layers.Dense(\n",
    "            units=layer, \n",
    "            activation='relu', \n",
    "        )(x)\n",
    "    \n",
    "    output = tf.keras.layers.Dense(\n",
    "            units=layer_sizes[-1], \n",
    "            activation='softmax', \n",
    "            name=f\"output-layer-{layer_sizes[-1]}\"\n",
    "    )(x)\n",
    "    return output"
   ]
  },
  {
   "cell_type": "code",
   "execution_count": null,
   "id": "58a660e8",
   "metadata": {},
   "outputs": [],
   "source": [
    "inp = input_layer()\n",
    "x = conv_block(inp, 64, 1)\n",
    "x = conv_block(x, 128, 1)\n",
    "x = conv_block(x, 256, 2)\n",
    "x = conv_block(x, 512, 2)\n",
    "x = conv_block(x, 756, 2)\n",
    "out = fc_block(x)\n",
    "vgg_a = tf.keras.Model(inputs=inp, outputs=out)\n",
    "vgg_a.summary()"
   ]
  },
  {
   "cell_type": "code",
   "execution_count": null,
   "id": "e45b317e",
   "metadata": {},
   "outputs": [],
   "source": [
    "train_gen = tf.keras.preprocessing.image.ImageDataGenerator(rescale=1/255.)\n",
    "test_gen = tf.keras.preprocessing.image.ImageDataGenerator(rescale=1/255.)\n",
    "\n",
    "train = train_gen.flow_from_directory(TRAIN_DIR)\n",
    "test = test_gen.flow_from_directory(TEST_DIR)"
   ]
  },
  {
   "cell_type": "code",
   "execution_count": null,
   "id": "8436ace8",
   "metadata": {},
   "outputs": [],
   "source": [
    "vgg_a.compile(optimizer='adam', loss='categorical_crossentropy', metrics=['accuracy'])"
   ]
  },
  {
   "cell_type": "code",
   "execution_count": null,
   "id": "3ee9e337",
   "metadata": {},
   "outputs": [],
   "source": [
    "vgg_a.fit(train, epochs=2, validation_data=test)"
   ]
  },
  {
   "cell_type": "code",
   "execution_count": null,
   "id": "c49db3c6",
   "metadata": {},
   "outputs": [],
   "source": []
  }
 ],
 "metadata": {
  "kernelspec": {
   "display_name": "Python 3",
   "language": "python",
   "name": "python3"
  },
  "language_info": {
   "codemirror_mode": {
    "name": "ipython",
    "version": 3
   },
   "file_extension": ".py",
   "mimetype": "text/x-python",
   "name": "python",
   "nbconvert_exporter": "python",
   "pygments_lexer": "ipython3",
   "version": "3.8.8"
  }
 },
 "nbformat": 4,
 "nbformat_minor": 5
}
